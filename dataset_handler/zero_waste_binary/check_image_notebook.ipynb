{
 "cells": [
  {
   "cell_type": "code",
   "execution_count": 1,
   "metadata": {},
   "outputs": [
    {
     "name": "stdout",
     "output_type": "stream",
     "text": [
      "loading annotations into memory...\n",
      "Done (t=0.16s)\n",
      "creating index...\n",
      "index created!\n"
     ]
    }
   ],
   "source": [
    "from pycocotools import coco\n",
    "\n",
    "coco_info = coco.COCO('/home/kaeun.kim/kaeun-dev/nuvilab/dataset_handler/zero_waste_binary/filtered_coco.json')"
   ]
  },
  {
   "cell_type": "code",
   "execution_count": 2,
   "metadata": {},
   "outputs": [
    {
     "data": {
      "text/plain": [
       "{'license': 0,\n",
       " 'url': None,\n",
       " 'file_name': '/mnt/nas/data/.hubAPI/ogeum-es/211104/L/A/ogeum-es_211104_122631_0_L_A_VS-21102504_Trayfile.jpeg',\n",
       " 'uri': 's3://hubapi/datasets/images/ogeum-es/211104/L/A/ogeum-es_211104_122631_0_L_A_VS-21102504_Trayfile.jpeg',\n",
       " 'depth_name': None,\n",
       " 'height': 720,\n",
       " 'width': 1280,\n",
       " 'date_captured': None,\n",
       " 'id': 7862}"
      ]
     },
     "execution_count": 2,
     "metadata": {},
     "output_type": "execute_result"
    }
   ],
   "source": [
    "coco_info.dataset['images'][200]"
   ]
  },
  {
   "cell_type": "code",
   "execution_count": 10,
   "metadata": {},
   "outputs": [
    {
     "name": "stdout",
     "output_type": "stream",
     "text": [
      "Category names for annotations:\n",
      "Annotation 1: 식판\n",
      "Annotation 2: 손\n",
      "Annotation 3: 숟가락\n"
     ]
    }
   ],
   "source": [
    "# get anns\n",
    "ann_ids = coco_info.getAnnIds(imgIds=7862)\n",
    "anns = coco_info.loadAnns(ann_ids)\n",
    "# Get category names for each annotation\n",
    "cat_names = []\n",
    "for ann in anns:\n",
    "    cat_id = ann['category_id']\n",
    "    cat_info = coco_info.loadCats([cat_id])[0]\n",
    "    cat_names.append(cat_info['name'])\n",
    "\n",
    "print(\"Category names for annotations:\")\n",
    "for i, name in enumerate(cat_names):\n",
    "    print(f\"Annotation {i+1}: {name}\")\n",
    "\n"
   ]
  },
  {
   "cell_type": "code",
   "execution_count": 6,
   "metadata": {},
   "outputs": [
    {
     "data": {
      "text/plain": [
       "[{'id': 58258,\n",
       "  'image_id': 5674,\n",
       "  'category_id': 3079,\n",
       "  'volume': None,\n",
       "  'segmentation': [[]],\n",
       "  'area': 25338.0,\n",
       "  'bbox': [890.0, 103.0, 339.0, 138.0],\n",
       "  'iscrowd': 0},\n",
       " {'id': 58259,\n",
       "  'image_id': 5674,\n",
       "  'category_id': 3278,\n",
       "  'volume': None,\n",
       "  'segmentation': [[]],\n",
       "  'area': 148285.0,\n",
       "  'bbox': [446.0, 78.0, 472.0, 340.0],\n",
       "  'iscrowd': 0},\n",
       " {'id': 58260,\n",
       "  'image_id': 5674,\n",
       "  'category_id': 3278,\n",
       "  'volume': None,\n",
       "  'segmentation': [[]],\n",
       "  'area': 164.0,\n",
       "  'bbox': [1207.0, 502.0, 26.0, 16.0],\n",
       "  'iscrowd': 0},\n",
       " {'id': 58261,\n",
       "  'image_id': 5674,\n",
       "  'category_id': 3278,\n",
       "  'volume': None,\n",
       "  'segmentation': [[]],\n",
       "  'area': 69005.0,\n",
       "  'bbox': [835.0, 457.0, 399.0, 263.0],\n",
       "  'iscrowd': 0},\n",
       " {'id': 58262,\n",
       "  'image_id': 5674,\n",
       "  'category_id': 3278,\n",
       "  'volume': None,\n",
       "  'segmentation': [[]],\n",
       "  'area': 4325.0,\n",
       "  'bbox': [781.0, 450.0, 44.0, 163.0],\n",
       "  'iscrowd': 0},\n",
       " {'id': 58263,\n",
       "  'image_id': 5674,\n",
       "  'category_id': 3079,\n",
       "  'volume': None,\n",
       "  'segmentation': [[]],\n",
       "  'area': 2802.0,\n",
       "  'bbox': [1160.0, 486.0, 85.0, 62.0],\n",
       "  'iscrowd': 0},\n",
       " {'id': 58264,\n",
       "  'image_id': 5674,\n",
       "  'category_id': 3079,\n",
       "  'volume': None,\n",
       "  'segmentation': [[]],\n",
       "  'area': 5250.0,\n",
       "  'bbox': [601.0, 679.0, 169.0, 41.0],\n",
       "  'iscrowd': 0},\n",
       " {'id': 58265,\n",
       "  'image_id': 5674,\n",
       "  'category_id': 3183,\n",
       "  'volume': None,\n",
       "  'segmentation': [[]],\n",
       "  'area': 1017.0,\n",
       "  'bbox': [1096.0, 573.0, 43.0, 35.0],\n",
       "  'iscrowd': 0}]"
      ]
     },
     "execution_count": 6,
     "metadata": {},
     "output_type": "execute_result"
    }
   ],
   "source": [
    "anns"
   ]
  },
  {
   "cell_type": "code",
   "execution_count": null,
   "metadata": {},
   "outputs": [],
   "source": []
  }
 ],
 "metadata": {
  "kernelspec": {
   "display_name": "yolov11",
   "language": "python",
   "name": "python3"
  },
  "language_info": {
   "codemirror_mode": {
    "name": "ipython",
    "version": 3
   },
   "file_extension": ".py",
   "mimetype": "text/x-python",
   "name": "python",
   "nbconvert_exporter": "python",
   "pygments_lexer": "ipython3",
   "version": "3.10.4"
  }
 },
 "nbformat": 4,
 "nbformat_minor": 2
}
